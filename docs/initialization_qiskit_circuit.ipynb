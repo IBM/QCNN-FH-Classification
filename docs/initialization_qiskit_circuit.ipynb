{
 "cells": [
  {
   "cell_type": "code",
   "execution_count": 1,
   "metadata": {},
   "outputs": [
    {
     "name": "stderr",
     "output_type": "stream",
     "text": [
      "/Users/bai/local/src/MERA-Hubbard/.venv/lib/python3.12/site-packages/cotengra/hyperoptimizers/hyper.py:33: UserWarning: Couldn't import `kahypar` - skipping from default hyper optimizer and using basic `labels` method instead.\n",
      "  warnings.warn(\n"
     ]
    }
   ],
   "source": [
    "import quimb as qu\n",
    "import quimb.tensor as qtn\n",
    "import matplotlib.pyplot as plt\n",
    "import numpy as np\n",
    "\n",
    "from qiskit import QuantumCircuit, QuantumRegister\n",
    "from qiskit.quantum_info.operators import Operator\n",
    "import json"
   ]
  },
  {
   "cell_type": "code",
   "execution_count": 2,
   "metadata": {},
   "outputs": [],
   "source": [
    "num_sites = 2\n",
    "t1 = 1.\n",
    "t2 = 0.5 # trying without the NN terms first, as additional check\n",
    "U = 2."
   ]
  },
  {
   "cell_type": "code",
   "execution_count": 3,
   "metadata": {},
   "outputs": [
    {
     "name": "stdout",
     "output_type": "stream",
     "text": [
      "[[0.25463618391915877, 0.49736393359604136, 0.5240011711672311, -0.6428159176718731], [0.2650261322324709, 0.7452055032321766, -0.5731247914448934, 0.2143778920915695], [-0.9272017023614892, 0.3688746222680709, 0.02912187381640364, -0.05814148819876182], [0.07223964431627956, 0.24744572850817403, 0.6293668743364558, 0.7331093934196158]]\n",
      "-----------------------\n",
      "\n",
      "[[0.03821127311656324, -0.5047316638575556, 0.853873688624506, 0.12118403352411755], [-0.4200378958846649, 0.6182978141288009, 0.4532060575529726, -0.4856750441000875], [-0.6785720607077288, 0.11324780550687077, -0.005689257324995182, 0.7257289613387587], [0.6013717843850515, 0.5917167355170952, 0.2558742379044071, 0.47196573628958555]]\n",
      "-----------------------\n",
      "\n",
      "[[0.6338642129915022, 0.1024803620025143, 0.2436580412438019, -0.726873230921137], [0.04795109502509583, 0.6740900473752397, 0.6467153003882898, 0.35364193863175325], [0.20335720882866148, -0.7283145916628874, 0.5943046251209408, 0.2738717103831555], [0.7446896652915054, 0.06825129306029257, -0.41132966309369856, 0.5211400691396196]]\n",
      "-----------------------\n",
      "\n",
      "[[0.5469371230334743, 0.367974143472845, -0.04435559485014854, -0.7506579743057303], [0.36373300583555557, 0.7044778701236273, 0.022895057723137716, 0.6090033229004285], [0.43034275429945495, -0.3569840544725337, -0.8078749490386044, 0.18629429779298598], [-0.6191633045777646, 0.49078339936661936, -0.5872362933719407, -0.17584650385285447]]\n",
      "-----------------------\n",
      "\n",
      "[[0.5013305364173684, -0.786250854689228, 0.17948883857548392, 0.3134661761382819], [0.7820195114493097, 0.3281398441754899, 0.14381698040185867, -0.5099866689680811], [-0.21382771088064662, 0.08669474719310215, 0.9730141309062607, 0.002287340245987521], [0.30230925726414565, 0.5163505175499175, 0.018545458518177436, 0.8010289145634412]]\n",
      "-----------------------\n",
      "\n",
      "[[0.744890515430254, -0.12280354316815065, 0.3291734289412458, 0.5671880318610941], [-0.03784685712567721, -0.15177542708231534, 0.8614684366750673, -0.4831189995770244], [-0.08056506491337952, -0.9807039348370709, -0.17809837187340402, -0.00316740376841858], [0.6612223572621106, 0.010163745097918384, -0.3432170686718842, -0.6669960541971754]]\n",
      "-----------------------\n",
      "\n"
     ]
    }
   ],
   "source": [
    "num_qubits = num_sites*2\n",
    "\n",
    "# read the file with the optimized MERA\n",
    "name_file = f'not-optMERA_1x{num_sites}_U={U}_t2={t2}.json'\n",
    "with open(name_file, 'r') as openfile:\n",
    "    # Reading from json file\n",
    "    mera_json = json.load(openfile)\n",
    "\n",
    "# recovering the tensors\n",
    "for item in mera_json['tensors']:\n",
    "    print(item)\n",
    "    print('-----------------------\\n')\n",
    "\n"
   ]
  },
  {
   "cell_type": "code",
   "execution_count": 4,
   "metadata": {},
   "outputs": [
    {
     "data": {
      "text/html": [
       "<pre style=\"word-wrap: normal;white-space: pre;background: #fff0;line-height: 1.1;font-family: &quot;Courier New&quot;,Courier,monospace\">                         ┌────────┐          ┌────────┐\n",
       "q_0: ────────────────────┤1       ├──────────┤0       ├\n",
       "     ┌────────┐┌────────┐│        │┌────────┐│  UNI_0 │\n",
       "q_1: ┤0       ├┤0       ├┤        ├┤0       ├┤1       ├\n",
       "     │        ││        ││  ISO_3 ││  ISO_2 │├────────┤\n",
       "q_2: ┤  ISO_5 ├┤  UNI_4 ├┤        ├┤1       ├┤0       ├\n",
       "     │        ││        ││        │└────────┘│  UNI_1 │\n",
       "q_3: ┤1       ├┤1       ├┤0       ├──────────┤1       ├\n",
       "     └────────┘└────────┘└────────┘          └────────┘</pre>"
      ],
      "text/plain": [
       "                         ┌────────┐          ┌────────┐\n",
       "q_0: ────────────────────┤1       ├──────────┤0       ├\n",
       "     ┌────────┐┌────────┐│        │┌────────┐│  UNI_0 │\n",
       "q_1: ┤0       ├┤0       ├┤        ├┤0       ├┤1       ├\n",
       "     │        ││        ││  ISO_3 ││  ISO_2 │├────────┤\n",
       "q_2: ┤  ISO_5 ├┤  UNI_4 ├┤        ├┤1       ├┤0       ├\n",
       "     │        ││        ││        │└────────┘│  UNI_1 │\n",
       "q_3: ┤1       ├┤1       ├┤0       ├──────────┤1       ├\n",
       "     └────────┘└────────┘└────────┘          └────────┘"
      ]
     },
     "execution_count": 4,
     "metadata": {},
     "output_type": "execute_result"
    }
   ],
   "source": [
    "qc = QuantumCircuit(num_qubits) # initialized with all |0> states\n",
    "\n",
    "nlayers = np.log2(2*num_sites)\n",
    "num_gates = len(mera_json['tensors'])\n",
    "\n",
    "for i in np.arange(num_gates-1, -1, -1):\n",
    "    q = mera_json['qubits'][i]\n",
    "    tn = mera_json['tensors'][i]\n",
    "\n",
    "    # easy to add QEC gates here before/after the isometries!!\n",
    "    op = Operator(tn)\n",
    "    if i == num_gates-1:\n",
    "        qc.unitary(op, [q[-1],q[0]], label=f'{mera_json['tags'][i]}_{i}')\n",
    "    else:\n",
    "        qc.unitary(op, q, label=f'{mera_json['tags'][i]}_{i}')\n",
    "\n",
    "qc.draw('text')"
   ]
  },
  {
   "cell_type": "code",
   "execution_count": 5,
   "metadata": {},
   "outputs": [],
   "source": [
    "# # the loop now needs to start from the end...\n",
    "# # or I select first the pairs of qubits...\n",
    "\n",
    "# list_qubits = []\n",
    "# list_layer_tag = []\n",
    "# jump = 1\n",
    "# ind_q = 0\n",
    "# while jump <= num_sites:\n",
    "#     if ind_q < num_qubits-1 and ind_q + jump <= num_qubits-1:\n",
    "#         list_qubits.append([ind_q, ind_q+jump])\n",
    "#         list_layer_tag.append(jump-1)\n",
    "#         ind_q += jump\n",
    "#     else:\n",
    "#         list_qubits.append([ind_q, ind_q-num_qubits+jump]) # CHECK THE ORDER HERE!!!!\n",
    "#         # list_qubits.append([ind_q-num_qubits+jump, ind_q]) # CHECK THE ORDER HERE!!!!\n",
    "#         list_layer_tag.append(jump-1)\n",
    "\n",
    "#         jump += 1\n",
    "#         ind_q = ind_q - num_qubits + jump + 1\n",
    "\n",
    "# list_uni_iso = []\n",
    "# for j in np.arange(len(mera_json)):\n",
    "#     if j % 2 == 0:\n",
    "#         list_uni_iso.append('UNI')\n",
    "#     else:\n",
    "#         list_uni_iso.append('ISO')\n",
    "\n",
    "# print(list_qubits)\n",
    "# print(list_layer_tag)\n",
    "# print(list_uni_iso)"
   ]
  },
  {
   "cell_type": "code",
   "execution_count": 6,
   "metadata": {},
   "outputs": [],
   "source": [
    "# # now I need to assign those tensors to gates in a circuit\n",
    "\n",
    "# qc = QuantumCircuit(num_qubits) # initialized with all |0> states\n",
    "\n",
    "# i = len(mera_json)-1\n",
    "\n",
    "# while i >= 0:\n",
    "#     if list_uni_iso[i] == 'ISO':\n",
    "#         # and apply the gate right away\n",
    "#         op = Operator(mera_json[i])\n",
    "#         qc.unitary(op, list_qubits[i], label=f'ISO_{list_layer_tag[i]}')\n",
    "#         i -= 1\n",
    "#     else:\n",
    "#         # apply first the next ISO if it is in the same layer!!, then this UNI --- NOOOO - I NEED TO APPLY FIRST ALL THE ISO OF A LAYER, THEN ALL THE UNITARIES!!!\n",
    "#         if list_uni_iso[i-1] == 'ISO' and list_layer_tag[i-1] == list_layer_tag[i]:\n",
    "#             op_iso = Operator(mera_json[i-1])\n",
    "#             qc.unitary(op_iso, list_qubits[i-1], label=f'ISO_{list_layer_tag[i-1]}')\n",
    "\n",
    "#             op = Operator(mera_json[i])\n",
    "#             qc.unitary(op, list_qubits[i], label=f'UNI_{list_layer_tag[i]}')\n",
    "#             i -= 2\n",
    "#         else:\n",
    "#             op = Operator(mera_json[i])\n",
    "#             qc.unitary(op, list_qubits[i], label=f'UNI_{list_layer_tag[i]}')\n",
    "#             i -= 1\n",
    "\n",
    "\n",
    "# # nlayers = np.log2(2*num_sites)\n",
    "# # i = len(mera_json)-1\n",
    "\n",
    "# # for i_l in np.arange(nlayers-1, -1, -1):\n",
    "# #     store_uni_tn = []\n",
    "# #     store_uni_inds = []\n",
    "# #     for i_tn in np.arange(len(mera_json)-1,-1,-1):\n",
    "# #         if list_layer_tag[i_tn] == i_l:\n",
    "# #             if list_uni_iso[i_tn] == 'UNI':\n",
    "# #                 store_uni_tn.append(mera_json[i_tn])\n",
    "# #                 store_uni_inds.append(list_qubits[i_tn])\n",
    "# #             elif list_uni_iso[i_tn] == 'ISO':\n",
    "# #                 op = Operator(mera_json[i_tn])\n",
    "# #                 qc.unitary(op, list_qubits[i_tn], label=f'ISO_{list_layer_tag[i_tn]}')\n",
    "    \n",
    "# #     for q_uni, uni in zip(store_uni_inds, store_uni_tn):\n",
    "# #         op = Operator(uni)\n",
    "# #         qc.unitary(op, q_uni, label=f'UNI_{int(i_l)}')\n",
    "\n",
    "# qc.draw('text')\n"
   ]
  },
  {
   "cell_type": "code",
   "execution_count": 7,
   "metadata": {},
   "outputs": [],
   "source": [
    "# for i in np.arange(len(mera_json)-1, -1, -1):\n",
    "#     print(i)\n",
    "#     op_uni = Operator(mera_json[i])\n",
    "#     if list_uni_iso[i] == 'UNI':\n",
    "#         label = 'UNI'\n",
    "#     else:\n",
    "#         label = 'ISO'\n",
    "#     qc.unitary(op, list_qubits[i], label=label)\n",
    "\n",
    "\n",
    "# # add gates with unitaries(???) as the tensors we have -- the number of gates and position is fixed, as in the MERA (just reverse order )\n",
    "# nlayers = np.log2(2*num_sites)\n",
    "# id_gates = 0\n",
    "# i_tensor = 0\n",
    "# for i_l in np.arange(nlayers):\n",
    "#     for i_q in np.arange(0,2*(int(num_sites-i_l)),2):\n",
    "#         op = Operator()\n",
    "#         qc.cx(i_q, i_q+1, 'UNI')\n",
    "#         i_tensor += 1\n",
    "#     for i_q in np.arange(0,2*(int(num_sites-i_l)),2):\n",
    "#         if i_q+2 == 2*num_sites:\n",
    "#             qc.cx(i_q+1, 0, 'ISO')\n",
    "#         else:\n",
    "#             qc.cx(i_q+1, i_q+2, 'ISO')\n",
    "#         i_tensor += 1\n",
    "        \n",
    "#     qc.barrier()\n",
    "\n",
    "# qc.draw(output=\"text\")\n"
   ]
  },
  {
   "cell_type": "markdown",
   "metadata": {},
   "source": [
    "Fidelity check"
   ]
  },
  {
   "cell_type": "code",
   "execution_count": 12,
   "metadata": {},
   "outputs": [
    {
     "name": "stdout",
     "output_type": "stream",
     "text": [
      "Reference ED at half-filling:\n"
     ]
    },
    {
     "name": "stderr",
     "output_type": "stream",
     "text": [
      "/Users/bai/local/src/MERA-Hubbard/.venv/lib/python3.12/site-packages/quimb/experimental/operatorbuilder/operatorbuilder.py:1431: NumbaTypeSafetyWarning: unsafe cast from int64 to undefined. Precision may be lost.\n",
      "  ci = bitmap[bi]\n"
     ]
    },
    {
     "name": "stdout",
     "output_type": "stream",
     "text": [
      "energy =  -1.2360679774997894\n",
      "number of particles =  2.0\n",
      "\n",
      "\n",
      "New Hamiltonian at half-filling:\n",
      "chemical potential at half-filling =  -0.882\n",
      "SparseOperatorBuilder(nsites=4, nterms=10, locality=2))\n",
      "+ - . .  -1.0\n",
      "- + . .  -1.0\n",
      ". . + -  -1.0\n",
      ". . - +  -1.0\n",
      "n . n .  +2.0\n",
      "sn. . .  -0.8820000000001231\n",
      ". . sn.  -0.8820000000001231\n",
      ". n . n  +2.0\n",
      ". sn. .  -0.8820000000001231\n",
      ". . . sn -0.8820000000001231\n",
      "energy =  -1.2360679774997898\n",
      "number of particles =  2.0\n"
     ]
    }
   ],
   "source": [
    "# define the Hamiltonian in qiskit -- it needs to contain also the terms with the chemical potential if I want to compare the energy...\n",
    "from mera_hubbard import create_model_qiskit, solve_ground_state_qiskit, FH_Hamiltonian_NN_half_filling, solve_ground_state \n",
    "from qiskit.quantum_info import state_fidelity\n",
    "from qiskit.quantum_info import Statevector\n",
    "\n",
    "lattice_type = [num_sites]\n",
    "# automated - do not change\n",
    "model_dim = len(lattice_type)\n",
    "if model_dim == 1:\n",
    "    num_sites_per_col = 1\n",
    "    num_sites_per_row = lattice_type[0]\n",
    "else:\n",
    "    num_sites_per_col = lattice_type[0]\n",
    "    num_sites_per_row = lattice_type[1]\n",
    "num_sites = num_sites_per_col * num_sites_per_row\n",
    "\n",
    "# additional check - hamiltonian in quimb\n",
    "# FH HAMILTONIAN\n",
    "ham, sparse_ham = FH_Hamiltonian_NN_half_filling(num_sites, t1, t2, U, pbc=0) # pbc=0: open BC, pbc=1: cyclic BC\n",
    "ham.show()\n",
    "en, _, v = solve_ground_state(num_sites, ham, sparse_ham)"
   ]
  },
  {
   "cell_type": "code",
   "execution_count": 13,
   "metadata": {},
   "outputs": [
    {
     "name": "stdout",
     "output_type": "stream",
     "text": [
      "Energy gs =  -1.2360679774997891\n",
      "Number of particles = 2.0\n",
      "Magnetization = 0.0\n"
     ]
    },
    {
     "data": {
      "text/plain": [
       "0.006113175858698562"
      ]
     },
     "execution_count": 13,
     "metadata": {},
     "output_type": "execute_result"
    }
   ],
   "source": [
    "# create the model qiskit\n",
    "mu = 0.\n",
    "model, ham = create_model_qiskit(lattice_type, t1, U, mu, t2, draw=False)\n",
    "en_qiskit, num_part_qiskit, eigenstate = solve_ground_state_qiskit(model, True)\n",
    "\n",
    "# convert the circuit to its final wavefuction\n",
    "psi = Statevector(qc)\n",
    "state_fidelity(psi, eigenstate)"
   ]
  },
  {
   "cell_type": "code",
   "execution_count": 14,
   "metadata": {},
   "outputs": [
    {
     "ename": "MissingOptionalLibraryError",
     "evalue": "\"The 'seaborn' library is required to use 'plot_state_qsphere'. You can install it with 'pip install seaborn'.\"",
     "output_type": "error",
     "traceback": [
      "\u001b[0;31m---------------------------------------------------------------------------\u001b[0m",
      "\u001b[0;31mMissingOptionalLibraryError\u001b[0m               Traceback (most recent call last)",
      "Cell \u001b[0;32mIn[14], line 1\u001b[0m\n\u001b[0;32m----> 1\u001b[0m \u001b[43mpsi\u001b[49m\u001b[38;5;241;43m.\u001b[39;49m\u001b[43mdraw\u001b[49m\u001b[43m(\u001b[49m\u001b[38;5;124;43m'\u001b[39;49m\u001b[38;5;124;43mqsphere\u001b[39;49m\u001b[38;5;124;43m'\u001b[39;49m\u001b[43m)\u001b[49m\n",
      "File \u001b[0;32m~/local/src/MERA-Hubbard/.venv/lib/python3.12/site-packages/qiskit/quantum_info/states/statevector.py:189\u001b[0m, in \u001b[0;36mStatevector.draw\u001b[0;34m(self, output, **drawer_args)\u001b[0m\n\u001b[1;32m    186\u001b[0m \u001b[38;5;66;03m# pylint: disable=cyclic-import\u001b[39;00m\n\u001b[1;32m    187\u001b[0m \u001b[38;5;28;01mfrom\u001b[39;00m \u001b[38;5;21;01mqiskit\u001b[39;00m\u001b[38;5;21;01m.\u001b[39;00m\u001b[38;5;21;01mvisualization\u001b[39;00m\u001b[38;5;21;01m.\u001b[39;00m\u001b[38;5;21;01mstate_visualization\u001b[39;00m \u001b[38;5;28;01mimport\u001b[39;00m state_drawer\n\u001b[0;32m--> 189\u001b[0m \u001b[38;5;28;01mreturn\u001b[39;00m \u001b[43mstate_drawer\u001b[49m\u001b[43m(\u001b[49m\u001b[38;5;28;43mself\u001b[39;49m\u001b[43m,\u001b[49m\u001b[43m \u001b[49m\u001b[43moutput\u001b[49m\u001b[38;5;241;43m=\u001b[39;49m\u001b[43moutput\u001b[49m\u001b[43m,\u001b[49m\u001b[43m \u001b[49m\u001b[38;5;241;43m*\u001b[39;49m\u001b[38;5;241;43m*\u001b[39;49m\u001b[43mdrawer_args\u001b[49m\u001b[43m)\u001b[49m\n",
      "File \u001b[0;32m~/local/src/MERA-Hubbard/.venv/lib/python3.12/site-packages/qiskit/visualization/state_visualization.py:1463\u001b[0m, in \u001b[0;36mstate_drawer\u001b[0;34m(state, output, **drawer_args)\u001b[0m\n\u001b[1;32m   1461\u001b[0m \u001b[38;5;28;01mtry\u001b[39;00m:\n\u001b[1;32m   1462\u001b[0m     draw_func \u001b[38;5;241m=\u001b[39m drawers[output]\n\u001b[0;32m-> 1463\u001b[0m     \u001b[38;5;28;01mreturn\u001b[39;00m \u001b[43mdraw_func\u001b[49m\u001b[43m(\u001b[49m\u001b[43mstate\u001b[49m\u001b[43m,\u001b[49m\u001b[43m \u001b[49m\u001b[38;5;241;43m*\u001b[39;49m\u001b[38;5;241;43m*\u001b[39;49m\u001b[43mdrawer_args\u001b[49m\u001b[43m)\u001b[49m\n\u001b[1;32m   1464\u001b[0m \u001b[38;5;28;01mexcept\u001b[39;00m \u001b[38;5;167;01mKeyError\u001b[39;00m \u001b[38;5;28;01mas\u001b[39;00m err:\n\u001b[1;32m   1465\u001b[0m     \u001b[38;5;28;01mraise\u001b[39;00m \u001b[38;5;167;01mValueError\u001b[39;00m(\n\u001b[1;32m   1466\u001b[0m \u001b[38;5;250m        \u001b[39m\u001b[38;5;124;03m\"\"\"'{}' is not a valid option for drawing {} objects. Please choose from:\u001b[39;00m\n\u001b[1;32m   1467\u001b[0m \u001b[38;5;124;03m        'text', 'latex', 'latex_source', 'qsphere', 'hinton',\u001b[39;00m\n\u001b[0;32m   (...)\u001b[0m\n\u001b[1;32m   1470\u001b[0m         )\n\u001b[1;32m   1471\u001b[0m     ) \u001b[38;5;28;01mfrom\u001b[39;00m \u001b[38;5;21;01merr\u001b[39;00m\n",
      "File \u001b[0;32m~/local/src/MERA-Hubbard/.venv/lib/python3.12/site-packages/qiskit/utils/lazy_tester.py:165\u001b[0m, in \u001b[0;36mLazyDependencyManager.require_in_call.<locals>.out\u001b[0;34m(*args, **kwargs)\u001b[0m\n\u001b[1;32m    162\u001b[0m \u001b[38;5;129m@functools\u001b[39m\u001b[38;5;241m.\u001b[39mwraps(function)\n\u001b[1;32m    163\u001b[0m \u001b[38;5;28;01mdef\u001b[39;00m \u001b[38;5;21mout\u001b[39m(\u001b[38;5;241m*\u001b[39margs, \u001b[38;5;241m*\u001b[39m\u001b[38;5;241m*\u001b[39mkwargs):\n\u001b[1;32m    164\u001b[0m     \u001b[38;5;28mself\u001b[39m\u001b[38;5;241m.\u001b[39mrequire_now(feature)\n\u001b[0;32m--> 165\u001b[0m     \u001b[38;5;28;01mreturn\u001b[39;00m \u001b[43mfunction\u001b[49m\u001b[43m(\u001b[49m\u001b[38;5;241;43m*\u001b[39;49m\u001b[43margs\u001b[49m\u001b[43m,\u001b[49m\u001b[43m \u001b[49m\u001b[38;5;241;43m*\u001b[39;49m\u001b[38;5;241;43m*\u001b[39;49m\u001b[43mkwargs\u001b[49m\u001b[43m)\u001b[49m\n",
      "File \u001b[0;32m~/local/src/MERA-Hubbard/.venv/lib/python3.12/site-packages/qiskit/utils/lazy_tester.py:164\u001b[0m, in \u001b[0;36mLazyDependencyManager.require_in_call.<locals>.out\u001b[0;34m(*args, **kwargs)\u001b[0m\n\u001b[1;32m    162\u001b[0m \u001b[38;5;129m@functools\u001b[39m\u001b[38;5;241m.\u001b[39mwraps(function)\n\u001b[1;32m    163\u001b[0m \u001b[38;5;28;01mdef\u001b[39;00m \u001b[38;5;21mout\u001b[39m(\u001b[38;5;241m*\u001b[39margs, \u001b[38;5;241m*\u001b[39m\u001b[38;5;241m*\u001b[39mkwargs):\n\u001b[0;32m--> 164\u001b[0m     \u001b[38;5;28;43mself\u001b[39;49m\u001b[38;5;241;43m.\u001b[39;49m\u001b[43mrequire_now\u001b[49m\u001b[43m(\u001b[49m\u001b[43mfeature\u001b[49m\u001b[43m)\u001b[49m\n\u001b[1;32m    165\u001b[0m     \u001b[38;5;28;01mreturn\u001b[39;00m function(\u001b[38;5;241m*\u001b[39margs, \u001b[38;5;241m*\u001b[39m\u001b[38;5;241m*\u001b[39mkwargs)\n",
      "File \u001b[0;32m~/local/src/MERA-Hubbard/.venv/lib/python3.12/site-packages/qiskit/utils/lazy_tester.py:221\u001b[0m, in \u001b[0;36mLazyDependencyManager.require_now\u001b[0;34m(self, feature)\u001b[0m\n\u001b[1;32m    219\u001b[0m \u001b[38;5;28;01mif\u001b[39;00m \u001b[38;5;28mself\u001b[39m:\n\u001b[1;32m    220\u001b[0m     \u001b[38;5;28;01mreturn\u001b[39;00m\n\u001b[0;32m--> 221\u001b[0m \u001b[38;5;28;01mraise\u001b[39;00m MissingOptionalLibraryError(\n\u001b[1;32m    222\u001b[0m     libname\u001b[38;5;241m=\u001b[39m\u001b[38;5;28mself\u001b[39m\u001b[38;5;241m.\u001b[39m_name, name\u001b[38;5;241m=\u001b[39mfeature, pip_install\u001b[38;5;241m=\u001b[39m\u001b[38;5;28mself\u001b[39m\u001b[38;5;241m.\u001b[39m_install, msg\u001b[38;5;241m=\u001b[39m\u001b[38;5;28mself\u001b[39m\u001b[38;5;241m.\u001b[39m_msg\n\u001b[1;32m    223\u001b[0m )\n",
      "\u001b[0;31mMissingOptionalLibraryError\u001b[0m: \"The 'seaborn' library is required to use 'plot_state_qsphere'. You can install it with 'pip install seaborn'.\""
     ]
    }
   ],
   "source": [
    "psi.draw('qsphere')"
   ]
  },
  {
   "cell_type": "code",
   "execution_count": null,
   "metadata": {},
   "outputs": [
    {
     "ename": "NameError",
     "evalue": "name 'eigenstate' is not defined",
     "output_type": "error",
     "traceback": [
      "\u001b[0;31m---------------------------------------------------------------------------\u001b[0m",
      "\u001b[0;31mNameError\u001b[0m                                 Traceback (most recent call last)",
      "Cell \u001b[0;32mIn[11], line 1\u001b[0m\n\u001b[0;32m----> 1\u001b[0m \u001b[43meigenstate\u001b[49m\u001b[38;5;241m.\u001b[39mdraw(\u001b[38;5;124m'\u001b[39m\u001b[38;5;124mqsphere\u001b[39m\u001b[38;5;124m'\u001b[39m)\n",
      "\u001b[0;31mNameError\u001b[0m: name 'eigenstate' is not defined"
     ]
    }
   ],
   "source": [
    "eigenstate.draw('qsphere')"
   ]
  },
  {
   "cell_type": "code",
   "execution_count": 25,
   "metadata": {},
   "outputs": [],
   "source": [
    "# # calculate the energy\n",
    "# psi.conjugate().inner(ham.compose(psi))\n",
    "\n",
    "# # I need to convert the ham from FermionicOp to Operator....."
   ]
  }
 ],
 "metadata": {
  "kernelspec": {
   "display_name": ".venv",
   "language": "python",
   "name": "python3"
  },
  "language_info": {
   "codemirror_mode": {
    "name": "ipython",
    "version": 3
   },
   "file_extension": ".py",
   "mimetype": "text/x-python",
   "name": "python",
   "nbconvert_exporter": "python",
   "pygments_lexer": "ipython3",
   "version": "3.12.4"
  }
 },
 "nbformat": 4,
 "nbformat_minor": 2
}
