{
 "cells": [
  {
   "cell_type": "markdown",
   "metadata": {},
   "source": [
    "# Fermi-Hubbard Hamiltonian\n",
    "In this notebook we check the correct implementation of the FH Hamiltonian with NN terms, by comparing the energy and the number of particles with the qiskit implementation."
   ]
  },
  {
   "cell_type": "code",
   "execution_count": 1,
   "metadata": {},
   "outputs": [
    {
     "name": "stderr",
     "output_type": "stream",
     "text": [
      "/Users/bai/local/src/MERA-Hubbard/.venv/lib/python3.12/site-packages/cotengra/hyperoptimizers/hyper.py:33: UserWarning: Couldn't import `kahypar` - skipping from default hyper optimizer and using basic `labels` method instead.\n",
      "  warnings.warn(\n"
     ]
    }
   ],
   "source": [
    "import numpy as np\n",
    "\n",
    "# for qiskit implementation\n",
    "from mera_hubbard import create_model_qiskit, solve_ground_state_qiskit, solve_ground_state, solve_ground_state_half_filling, FH_Hamiltonian_NN, FH_Hamiltonian_NN_half_filling\n",
    "\n",
    "\n",
    "# for quimb implementation\n",
    "import quimb as qu"
   ]
  },
  {
   "cell_type": "code",
   "execution_count": 2,
   "metadata": {},
   "outputs": [],
   "source": [
    "# definition of the lattice and parameters\n",
    "lattice_type = [4]\n",
    "\n",
    "t1 = 1. # hopping term (energy scale) - minus sign added in the code!!!\n",
    "t2 = 1.5 # next-nearest-neighbor hopping - minus sign added in the code!!!\n",
    "U = 4. # on-site interaction - change U to change regime (U/t is what counts) -\n",
    "mu = 0. # chemical potential term\n",
    "\n",
    "\n",
    "#######################################\n",
    "model_dim = len(lattice_type)\n",
    "if model_dim == 1:\n",
    "    num_sites_per_col = 1\n",
    "    num_sites_per_row = lattice_type[0]\n",
    "else:\n",
    "    num_sites_per_col = lattice_type[0]\n",
    "    num_sites_per_row = lattice_type[1]\n",
    "\n",
    "num_sites = num_sites_per_col * num_sites_per_row\n",
    "num_qubits = num_sites * 2"
   ]
  },
  {
   "cell_type": "markdown",
   "metadata": {},
   "source": [
    "Qiskit implementation"
   ]
  },
  {
   "cell_type": "code",
   "execution_count": 3,
   "metadata": {},
   "outputs": [
    {
     "name": "stdout",
     "output_type": "stream",
     "text": [
      "Adjacency matrix:\n",
      "[[0. 1. 1. 0.]\n",
      " [1. 0. 1. 1.]\n",
      " [1. 1. 0. 1.]\n",
      " [0. 1. 1. 0.]]\n",
      "\n",
      "\n",
      "Hamiltonian:\n",
      "Fermionic Operator\n",
      "number spin orbitals=8, number terms=24\n",
      "  (-1+0j) * ( +_0 -_2 )\n",
      "+ (1+0j) * ( -_0 +_2 )\n",
      "+ (-1.5+0j) * ( +_0 -_4 )\n",
      "+ (1.5+0j) * ( -_0 +_4 )\n",
      "+ (-1+0j) * ( +_2 -_4 )\n",
      "+ (1+0j) * ( -_2 +_4 )\n",
      "+ (-1.5+0j) * ( +_2 -_6 )\n",
      "+ (1.5+0j) * ( -_2 +_6 )\n",
      "+ (-1+0j) * ( +_4 -_6 )\n",
      "+ (1+0j) * ( -_4 +_6 )\n",
      "+ (-1+0j) * ( +_1 -_3 )\n",
      "+ (1+0j) * ( -_1 +_3 )\n",
      "+ (-1.5+0j) * ( +_1 -_5 )\n",
      "+ (1.5+0j) * ( -_1 +_5 )\n",
      "+ (-1+0j) * ( +_3 -_5 )\n",
      "+ (1+0j) * ( -_3 +_5 )\n",
      "+ (-1.5+0j) * ( +_3 -_7 )\n",
      "+ (1.5+0j) * ( -_3 +_7 )\n",
      "+ (-1+0j) * ( +_5 -_7 )\n",
      "+ (1+0j) * ( -_5 +_7 )\n",
      "+ (4+0j) * ( +_0 -_0 +_1 -_1 )\n",
      "+ (4+0j) * ( +_2 -_2 +_3 -_3 )\n",
      "+ (4+0j) * ( +_4 -_4 +_5 -_5 )\n",
      "+ (4+0j) * ( +_6 -_6 +_7 -_7 )\n",
      "Energy gs =  -3.527166638308325\n",
      "Number of particles = 4.0\n",
      "Magnetization = 0.0\n"
     ]
    },
    {
     "data": {
      "image/png": "[encoded data removed]",
      "text/plain": [
       "<Figure size 400x100 with 1 Axes>"
      ]
     },
     "metadata": {},
     "output_type": "display_data"
    }
   ],
   "source": [
    "# the chemical potential value is implemented in the code (it can be changed to be at half-filling (look at the H written with particle-hole symmetry)), \n",
    "# however the solution of the ground state is implemented to find the lowest energy state at half-filling among the excited states, LET IT EQUAL TO 0.!!!\n",
    "model, ham = create_model_qiskit(lattice_type, t1, U, mu, t2, draw=True)\n",
    "\n",
    "en_qiskit, num_part_qiskit, eigenstate = solve_ground_state_qiskit(model, True)"
   ]
  },
  {
   "cell_type": "markdown",
   "metadata": {},
   "source": [
    "Quimb implementation"
   ]
  },
  {
   "cell_type": "code",
   "execution_count": 4,
   "metadata": {},
   "outputs": [
    {
     "name": "stderr",
     "output_type": "stream",
     "text": [
      "/Users/bai/local/src/MERA-Hubbard/.venv/lib/python3.12/site-packages/quimb/experimental/operatorbuilder/operatorbuilder.py:1431: NumbaTypeSafetyWarning: unsafe cast from int64 to undefined. Precision may be lost.\n",
      "  ci = bitmap[bi]\n"
     ]
    },
    {
     "name": "stdout",
     "output_type": "stream",
     "text": [
      "SparseOperatorBuilder(nsites=8, nterms=24, locality=3))\n",
      "+ - . . . . . .  -1.0\n",
      "- + . . . . . .  -1.0\n",
      ". . . . + - . .  -1.0\n",
      ". . . . - + . .  -1.0\n",
      ". + - . . . . .  -1.0\n",
      ". - + . . . . .  -1.0\n",
      ". . . . . + - .  -1.0\n",
      ". . . . . - + .  -1.0\n",
      ". . + - . . . .  -1.0\n",
      ". . - + . . . .  -1.0\n",
      ". . . . . . + -  -1.0\n",
      ". . . . . . - +  -1.0\n",
      "+ z - . . . . .  -1.5\n",
      "- z + . . . . .  -1.5\n",
      ". . . . + z - .  -1.5\n",
      ". . . . - z + .  -1.5\n",
      ". + z - . . . .  -1.5\n",
      ". - z + . . . .  -1.5\n",
      ". . . . . + z -  -1.5\n",
      ". . . . . - z +  -1.5\n",
      "n . . . n . . .  +4.0\n",
      ". n . . . n . .  +4.0\n",
      ". . n . . . n .  +4.0\n",
      ". . . n . . . n  +4.0\n",
      "energy =  -3.527166638308322\n",
      "number of particles =  4.0\n"
     ]
    }
   ],
   "source": [
    "ham, sH = FH_Hamiltonian_NN(num_sites, t1, t2, U)\n",
    "ham.show()\n",
    "en_quimb, num_part_quimb, gs_quimb = solve_ground_state_half_filling(num_sites, ham, sH)"
   ]
  },
  {
   "cell_type": "code",
   "execution_count": 5,
   "metadata": {},
   "outputs": [],
   "source": [
    "assert  np.round(en_qiskit,0)==np.round(en_quimb,0), \"The energy is not equal!!!\"\n",
    "assert num_part_qiskit==num_part_quimb, \"The number of particles is not equal!!!\""
   ]
  },
  {
   "cell_type": "markdown",
   "metadata": {},
   "source": [
    "Check the implementation of the quimb implementation of the FH Hamiltonian at half-filling\\\n",
    "(the ground state $k=1$ needs to have $N/2$ particles)"
   ]
  },
  {
   "cell_type": "code",
   "execution_count": 6,
   "metadata": {},
   "outputs": [],
   "source": [
    "# # check that holds for cases with t2=0\n",
    "# h, s_h = FH_Hamiltonian_NN(num_sites, t1, t2, U, mu=-U/2)\n",
    "# e, n, _ = solve_ground_state(num_sites, h, s_h)"
   ]
  },
  {
   "cell_type": "code",
   "execution_count": 7,
   "metadata": {},
   "outputs": [
    {
     "name": "stdout",
     "output_type": "stream",
     "text": [
      "Reference ED at half-filling:\n",
      "energy =  -3.527166638308322\n",
      "number of particles =  4.0\n",
      "\n",
      "\n",
      "New Hamiltonian at half-filling:\n",
      "chemical potential at half-filling =  -2.442\n",
      "energy =  -3.5271666383083264\n",
      "number of particles =  4.0\n"
     ]
    }
   ],
   "source": [
    "ham_hf, sham_hf = FH_Hamiltonian_NN_half_filling(num_sites, t1, t2, U)\n",
    "en_hf, n_hf, v_hf_quimb = solve_ground_state(num_sites, ham_hf, sham_hf)"
   ]
  },
  {
   "cell_type": "code",
   "execution_count": 8,
   "metadata": {},
   "outputs": [],
   "source": [
    "assert np.isclose(en_hf, en_quimb, atol=1.e-5), \"The chemical potential is not correct!\""
   ]
  },
  {
   "cell_type": "markdown",
   "metadata": {},
   "source": [
    "Check on the state - fidelity"
   ]
  },
  {
   "cell_type": "code",
   "execution_count": 9,
   "metadata": {},
   "outputs": [
    {
     "data": {
      "text/plain": [
       "0.07847310215320753"
      ]
     },
     "execution_count": 9,
     "metadata": {},
     "output_type": "execute_result"
    }
   ],
   "source": [
    "from qiskit.quantum_info import state_fidelity, Statevector\n",
    "psi = Statevector(v_hf_quimb)\n",
    "state_fidelity(psi, eigenstate)"
   ]
  },
  {
   "cell_type": "code",
   "execution_count": null,
   "metadata": {},
   "outputs": [],
   "source": []
  },
  {
   "cell_type": "code",
   "execution_count": null,
   "metadata": {},
   "outputs": [],
   "source": []
  }
 ],
 "metadata": {
  "kernelspec": {
   "display_name": ".venv",
   "language": "python",
   "name": "python3"
  },
  "language_info": {
   "codemirror_mode": {
    "name": "ipython",
    "version": 3
   },
   "file_extension": ".py",
   "mimetype": "text/x-python",
   "name": "python",
   "nbconvert_exporter": "python",
   "pygments_lexer": "ipython3",
   "version": "3.12.4"
  }
 },
 "nbformat": 4,
 "nbformat_minor": 2
}
