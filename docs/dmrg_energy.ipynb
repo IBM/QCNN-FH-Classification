{
 "cells": [
  {
   "cell_type": "code",
   "execution_count": 6,
   "metadata": {},
   "outputs": [],
   "source": [
    "import quimb as qu\n",
    "import quimb.tensor as qtn\n",
    "import matplotlib.pyplot as plt\n",
    "import numpy as np\n",
    "import cotengra as ctg\n",
    "\n",
    "from quimb.tensor.tensor_dmrg import DMRG2\n",
    "\n",
    "from mera_hubbard import FH_Hamiltonian_NN, solve_ground_state_half_filling"
   ]
  },
  {
   "cell_type": "code",
   "execution_count": 7,
   "metadata": {},
   "outputs": [],
   "source": [
    "num_sites = 4\n",
    "t1 = 1.\n",
    "t2 = 0.3 # trying without the NN terms first, as additional check\n",
    "U = 4"
   ]
  },
  {
   "cell_type": "code",
   "execution_count": 8,
   "metadata": {},
   "outputs": [
    {
     "name": "stdout",
     "output_type": "stream",
     "text": [
      "SparseOperatorBuilder(nsites=8, nterms=24, locality=3))\n",
      "+ - . . . . . .  -1.0\n",
      "- + . . . . . .  -1.0\n",
      ". . . . + - . .  -1.0\n",
      ". . . . - + . .  -1.0\n",
      ". + - . . . . .  -1.0\n",
      ". - + . . . . .  -1.0\n",
      ". . . . . + - .  -1.0\n",
      ". . . . . - + .  -1.0\n",
      ". . + - . . . .  -1.0\n",
      ". . - + . . . .  -1.0\n",
      ". . . . . . + -  -1.0\n",
      ". . . . . . - +  -1.0\n",
      "+ z - . . . . .  -0.3\n",
      "- z + . . . . .  -0.3\n",
      ". . . . + z - .  -0.3\n",
      ". . . . - z + .  -0.3\n",
      ". + z - . . . .  -0.3\n",
      ". - z + . . . .  -0.3\n",
      ". . . . . + z -  -0.3\n",
      ". . . . . - z +  -0.3\n",
      "n . . . n . . .  +4.0\n",
      ". n . . . n . .  +4.0\n",
      ". . n . . . n .  +4.0\n",
      ". . . n . . . n  +4.0\n",
      "energy =  -1.959513703909538\n",
      "number of particles =  4.0\n"
     ]
    }
   ],
   "source": [
    "# FH HAMILTONIAN\n",
    "ham, sparse_ham = FH_Hamiltonian_NN(num_sites, t1, t2, U, pbc=0) # pbc=0: open BC, pbc=1: cyclic BC\n",
    "ham.show()\n",
    "_, en, _ = solve_ground_state_half_filling(num_sites, ham, sparse_ham)"
   ]
  },
  {
   "cell_type": "code",
   "execution_count": 9,
   "metadata": {},
   "outputs": [
    {
     "data": {
      "text/plain": [
       "array([-3.12871789])"
      ]
     },
     "execution_count": 9,
     "metadata": {},
     "output_type": "execute_result"
    }
   ],
   "source": [
    "# However, the ground state without taking into account the constraint on the number of particles is...\n",
    "en_noconstraints, vk = qu.eigh(sparse_ham, k=1, backend=\"AUTO\")\n",
    "en_noconstraints"
   ]
  },
  {
   "cell_type": "code",
   "execution_count": 10,
   "metadata": {},
   "outputs": [
    {
     "data": {
      "image/png": "[encoded data removed]",
      "text/plain": [
       "<Figure size 600x600 with 1 Axes>"
      ]
     },
     "metadata": {
      "needs_background": "light"
     },
     "output_type": "display_data"
    }
   ],
   "source": [
    "# DMRG energy - it needs the MPO form of the Hamiltonian!!\n",
    "ham_MPO = ham.build_mpo()\n",
    "dmrg = DMRG2(ham_MPO)\n",
    "dmrg.TN_energy.draw(color=['_KET', '_HAM', '_BRA'], show_inds=False, show_tags=False)  # might be slow as uses force repulsion"
   ]
  },
  {
   "cell_type": "code",
   "execution_count": 11,
   "metadata": {},
   "outputs": [
    {
     "name": "stdout",
     "output_type": "stream",
     "text": [
      "1, R, max_bond=(8/8), cutoff:1e-06\n"
     ]
    },
    {
     "name": "stderr",
     "output_type": "stream",
     "text": [
      "100%|#############################################| 7/7 [00:01<00:00,  6.54it/s]"
     ]
    },
    {
     "name": "stdout",
     "output_type": "stream",
     "text": [
      "Energy: -3.128717774054421 ... not converged.\n",
      "2, R, max_bond=(5/16), cutoff:1e-06\n"
     ]
    },
    {
     "name": "stderr",
     "output_type": "stream",
     "text": [
      "\n",
      "100%|############################################| 7/7 [00:00<00:00, 672.87it/s]"
     ]
    },
    {
     "name": "stdout",
     "output_type": "stream",
     "text": [
      "Energy: -3.12871788890837 ... converged!\n"
     ]
    },
    {
     "name": "stderr",
     "output_type": "stream",
     "text": [
      "\n"
     ]
    },
    {
     "data": {
      "text/plain": [
       "True"
      ]
     },
     "execution_count": 11,
     "metadata": {},
     "output_type": "execute_result"
    }
   ],
   "source": [
    "dmrg.solve(max_sweeps=20, verbosity=1, cutoffs=1e-6)"
   ]
  },
  {
   "cell_type": "code",
   "execution_count": 12,
   "metadata": {},
   "outputs": [],
   "source": [
    "assert np.isclose(dmrg.energy,en_noconstraints[0], atol=1.e-8), \"The energies are different!\""
   ]
  },
  {
   "cell_type": "code",
   "execution_count": null,
   "metadata": {},
   "outputs": [],
   "source": []
  }
 ],
 "metadata": {
  "kernelspec": {
   "display_name": ".venv",
   "language": "python",
   "name": "python3"
  },
  "language_info": {
   "codemirror_mode": {
    "name": "ipython",
    "version": 3
   },
   "file_extension": ".py",
   "mimetype": "text/x-python",
   "name": "python",
   "nbconvert_exporter": "python",
   "pygments_lexer": "ipython3",
   "version": "3.12.4"
  }
 },
 "nbformat": 4,
 "nbformat_minor": 2
}
